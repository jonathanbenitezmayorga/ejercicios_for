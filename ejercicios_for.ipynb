{
  "nbformat": 4,
  "nbformat_minor": 0,
  "metadata": {
    "colab": {
      "provenance": [],
      "authorship_tag": "ABX9TyOfOZUhnqZ3P2BeQGIpRRWN",
      "include_colab_link": true
    },
    "kernelspec": {
      "name": "python3",
      "display_name": "Python 3"
    },
    "language_info": {
      "name": "python"
    }
  },
  "cells": [
    {
      "cell_type": "markdown",
      "metadata": {
        "id": "view-in-github",
        "colab_type": "text"
      },
      "source": [
        "<a href=\"https://colab.research.google.com/github/jonathanbenitezmayorga/ejercicios_for/blob/main/ejercicios_for.ipynb\" target=\"_parent\"><img src=\"https://colab.research.google.com/assets/colab-badge.svg\" alt=\"Open In Colab\"/></a>"
      ]
    },
    {
      "cell_type": "markdown",
      "source": [
        "# INSTRUCCION REPETITVA FOR"
      ],
      "metadata": {
        "id": "J1yXm2qrq7Ws"
      }
    },
    {
      "cell_type": "code",
      "execution_count": null,
      "metadata": {
        "id": "RSqp8Vj0qUtE"
      },
      "outputs": [],
      "source": [
        "# EJERCICIO 1: MOSTRAR LOS NUMEROS DE 1 AL 10 SIN USAR FUNCIONES REPETITIVAS\n",
        "print(1)\n",
        "print(2)\n",
        "print(3)\n",
        "print(4)\n",
        "print(5)\n",
        "print(6)\n",
        "print(7)\n",
        "print(8)\n",
        "print(9)\n",
        "print(10)"
      ]
    },
    {
      "cell_type": "code",
      "source": [
        "# EJERCICIO 2: COMOS LOS NUMEROS DE 1 AL 10 CON LA  INSTRUCION WHILE WHILE \n",
        "contador = 1\n",
        "print(contador)\n",
        "while contador <10:\n",
        "  # contador = contador + 1\n",
        "  contador += 1\n",
        "  print (contador)"
      ],
      "metadata": {
        "id": "aDFU91p9te8g"
      },
      "execution_count": null,
      "outputs": []
    },
    {
      "cell_type": "code",
      "source": [
        "# EJERCICIO 3: MOSTRAR LOS NUMEROS DEL 1 AL 10 USANDO LA INSTRUCCION FOR EN UNA LISTA COMO INTERABLE \n",
        "for i in [1, 2, 3, 4, 5, 6, 7, 8, 9, 10]:\n",
        "  print(i)\n"
      ],
      "metadata": {
        "id": "YTwFeCW2vJhw"
      },
      "execution_count": null,
      "outputs": []
    },
    {
      "cell_type": "code",
      "source": [
        "# EJERCICIO 4: MOSTRAR LOS NUMEROS DE 1 AL 10 UTILIZANDO LA INSTRUCCION FOR Y RANGE \n",
        "for i in range(1,11):\n",
        "  print(i)"
      ],
      "metadata": {
        "id": "lRYaWJ6zwvvm"
      },
      "execution_count": null,
      "outputs": []
    },
    {
      "cell_type": "code",
      "source": [
        "# EJERCICIO 5: MOSTRAR UNA FRASE 10 VECES USANDO LA INSTRUCION FOR Y UNA LISTA\n",
        "lista = [1, 2, 3, 4, 5, 6, 7, 8, 9, 10]\n",
        "for i in lista:\n",
        "  print(f\"erda\")\n"
      ],
      "metadata": {
        "id": "JIxLUot7xm2M"
      },
      "execution_count": null,
      "outputs": []
    },
    {
      "cell_type": "code",
      "source": [
        "# EJERCICIO 6: MOSTRAR LA INICIAL DE LOS DIAS DE LA SEMANA USANDO FOR Y UNA LISTA CON UNA SILABA INICIAL\n",
        "dias_semana = [\"lun, ma, mi, ju, vi , sa, do\"]\n",
        "for i in dias_semana:\n",
        "  print(i)"
      ],
      "metadata": {
        "id": "9zjETF65y-jZ"
      },
      "execution_count": null,
      "outputs": []
    },
    {
      "cell_type": "code",
      "source": [
        "#Ejercicio 7: mostar una lista de distintos tipos de datos,usando for\n",
        "\n",
        "lista = [1,3,4,9,True, \"andres\", 8, \"guanenta\"]\n",
        "for i in lista:\n",
        "  print(i)"
      ],
      "metadata": {
        "id": "f1qpIrAq0BTC"
      },
      "execution_count": null,
      "outputs": []
    },
    {
      "cell_type": "code",
      "source": [
        "#EJERCICIO 8: INGRESAR SU NOMBRE Y MOSTRARLO LETRA A LETRA\n",
        "nombre = input(\"dijite su nombre: \")\n",
        "for letra in  nombre:\n",
        "  print(letra)"
      ],
      "metadata": {
        "id": "HwCpcna70CFj"
      },
      "execution_count": null,
      "outputs": []
    },
    {
      "cell_type": "code",
      "source": [
        "# EJERCICIO 9: INGRESAR SU NOMBRE MOSTRANDO LETRA A LETRA, USANDO FOR, CAMBIANDO POR * LA VOCAL E\n",
        "nombre = input(\"digite el nombre: \")\n",
        "for letra in nombre: \n",
        "  if letra == 'e':\n",
        "    print(\"*\")\n",
        "  else:\n",
        "    print(letra)\n"
      ],
      "metadata": {
        "id": "GsHwKL481AE6"
      },
      "execution_count": null,
      "outputs": []
    },
    {
      "cell_type": "code",
      "source": [
        "# EJERCICIO 10: INGRESAR TU NOMBRE Y MOSTRARLO LETRA A LETRA EN MAYUSCULA \n",
        "nombre = input(\"digite su nombre: \")\n",
        "for letra in nombre: \n",
        "  print(letra.upper())\n"
      ],
      "metadata": {
        "id": "NBfPfeY8_9-2"
      },
      "execution_count": null,
      "outputs": []
    },
    {
      "cell_type": "code",
      "source": [
        "# EJECICIO 11: IMPRIMIR LISTA DE NUMEROS USANDO FOR Y RANGE \n",
        "print(\"muestra los numeros del 1 al 9\")\n",
        "for i in range (10): \n",
        "  print(i)\n",
        "\n",
        "print(\"nuemros del 1 al 10\")\n",
        "for i in range (1,11):\n",
        "  print(i)\n",
        "\n",
        "print(\"10 veses la misma frase\")\n",
        "for i in range (10):\n",
        "  print(\"erda\")\n",
        "\n",
        "print(\"10 veses la frase i = \")\n",
        "for i in range (10):\n",
        "  print(\"i = \" + str (i))\n",
        "\n",
        "print(\"10 veses la frase i = \")\n",
        "for i in range (10):\n",
        "  print(f\"i = \")\n",
        "\n",
        "print(\"rango del 7 al 18 incrementando de 4 en 4\")\n",
        "for i in range (7,19,4):\n",
        "  print(i)\n",
        "\n",
        "print(\"comvierte en rango de lista a,y la muestra\")\n",
        "a = list(range(1000))\n",
        "print(a) "
      ],
      "metadata": {
        "id": "dU-OB14dAHXt"
      },
      "execution_count": null,
      "outputs": []
    },
    {
      "cell_type": "markdown",
      "source": [
        "# ejercicios \n",
        "1. dada la siguiente lista de numeros [20, 21, 30, 41, 50, 201]mostrar en patalla los que noterminan en 1.\n",
        "2. mostrar 1000 veses en pantalla \"programamcion\"\n",
        "3. del conjunto de cadenas [ \"E\", \"F\", \"M\", \"A\"] que corresponde a las iniciales de los primeros 4 meses del año\n"
      ],
      "metadata": {
        "id": "em9P7GZHGnQc"
      }
    },
    {
      "cell_type": "code",
      "source": [
        "# EJERCICIO 12:"
      ],
      "metadata": {
        "id": "gSrQoLR4BEsf"
      },
      "execution_count": null,
      "outputs": []
    },
    {
      "cell_type": "code",
      "source": [
        "# EJERCICIO 13:"
      ],
      "metadata": {
        "id": "bQgiGL6OBHfG"
      },
      "execution_count": null,
      "outputs": []
    }
  ]
}